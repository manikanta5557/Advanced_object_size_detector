{
 "cells": [
  {
   "cell_type": "code",
   "execution_count": null,
   "id": "2a7b2ebd",
   "metadata": {},
   "outputs": [],
   "source": [
    "import torch\n",
    "import cv2\n",
    "import numpy as np\n",
    "import os"
   ]
  },
  {
   "cell_type": "code",
   "execution_count": null,
   "id": "d70b2fc3",
   "metadata": {},
   "outputs": [],
   "source": [
    "name=input(\"please enter the name of image with extension\")\n",
    "IMAGE_PATH = \"Input_images\"\n",
    "IMAGE_PATH =os.path.join(IMAGE_PATH,name)"
   ]
  },
  {
   "cell_type": "code",
   "execution_count": null,
   "id": "bdef81d1",
   "metadata": {},
   "outputs": [],
   "source": [
    "\n",
    "\n",
    "#model = torch.hub.load('ultralytics/yolov5', 'yolov5s') \n",
    "model = torch.hub.load('ultralytics/yolov5', 'custom', 'best1.pt')  \n",
    "im = IMAGE_PATH \n",
    "results = model(im)"
   ]
  },
  {
   "cell_type": "code",
   "execution_count": null,
   "id": "25d3b39e",
   "metadata": {},
   "outputs": [],
   "source": [
    "x=results.xyxy[0][0][0]\n",
    "y=results.xyxy[0][0][1]\n",
    "mx=results.xyxy[0][0][2]\n",
    "my=results.xyxy[0][0][3]\n"
   ]
  },
  {
   "cell_type": "code",
   "execution_count": null,
   "id": "837a8e09",
   "metadata": {},
   "outputs": [],
   "source": [
    "def grabcut_algorithm(original_image, bounding_box):\n",
    "    \n",
    "    segment = np.zeros(original_image.shape[:2],np.uint8)\n",
    "    \n",
    "    x,y,width,height = bounding_box\n",
    "    segment[y:y+height, x:x+width] = 1\n",
    "\n",
    "    background_mdl = np.zeros((1,65), np.float64)\n",
    "    foreground_mdl = np.zeros((1,65), np.float64)\n",
    "    \n",
    "    cv2.grabCut(original_image, segment, bounding_box, background_mdl, foreground_mdl, 5,\n",
    "    cv2.GC_INIT_WITH_RECT)\n",
    "\n",
    "    new_mask = np.where((segment==2)|(segment==0),0,1).astype('uint8')\n",
    "\n",
    "    original_image = original_image*new_mask[:,:,np.newaxis]\n",
    "    \n",
    "    return original_image"
   ]
  },
  {
   "cell_type": "code",
   "execution_count": null,
   "id": "c8d4c964",
   "metadata": {},
   "outputs": [],
   "source": [
    "oimage=cv2.imread(IMAGE_PATH)\n",
    "# oimage=cv2.resize(oimage,(600,600))\n",
    "x=round(x.item())\n",
    "y=round(y.item())\n",
    "mx=round(mx.item())\n",
    "my=round(my.item())\n",
    "image=grabcut_algorithm(oimage,(x-20,y-20,mx-x+20,my-y+20))"
   ]
  },
  {
   "cell_type": "code",
   "execution_count": null,
   "id": "2883fd1a",
   "metadata": {},
   "outputs": [],
   "source": [
    "ratiox=0\n",
    "ratioy=0\n",
    "img=cv2.cvtColor(image, cv2.COLOR_BGR2GRAY)\n",
    "ret, thresh = cv2.threshold(img, 15, 255, cv2.THRESH_BINARY)\n",
    "cnts = cv2.findContours(thresh, cv2.RETR_EXTERNAL, cv2.CHAIN_APPROX_SIMPLE)\n",
    "cnts = cnts[0] if len(cnts) == 2 else cnts[1]\n",
    "area_treshold = 1000\n",
    "for c in cnts:\n",
    "    if cv2.contourArea(c) > area_treshold :\n",
    "#       x,y,w,h = cv2.boundingRect(c)\n",
    "#       cv2.rectangle(image, (x, y), (x + w, y + h), (36,255,12), 3)\n",
    "        x=cv2.minAreaRect(c)\n",
    "        b=cv2.boxPoints(x)\n",
    "        b=np.int0(b)\n",
    "        cv2.polylines(oimage,[b],True,(0,255,0),2)\n",
    "        ratiox=8.6/max(x[1][1],x[1][0])\n",
    "        ratioy=5.4/min(x[1][1],x[1][0])"
   ]
  },
  {
   "cell_type": "code",
   "execution_count": null,
   "id": "8da88911",
   "metadata": {},
   "outputs": [],
   "source": [
    "model = torch.hub.load('ultralytics/yolov5', 'custom', 'best.pt') \n",
    "\n",
    "\n",
    "im = IMAGE_PATH \n",
    "\n",
    "\n",
    "results = model(im)\n"
   ]
  },
  {
   "cell_type": "code",
   "execution_count": null,
   "id": "3c87fc39",
   "metadata": {},
   "outputs": [],
   "source": [
    "x=results.xyxy[0][0][0]\n",
    "y=results.xyxy[0][0][1]\n",
    "mx=results.xyxy[0][0][2]\n",
    "my=results.xyxy[0][0][3]\n"
   ]
  },
  {
   "cell_type": "code",
   "execution_count": null,
   "id": "76cafaf3",
   "metadata": {},
   "outputs": [],
   "source": [
    "x=round(x.item())\n",
    "y=round(y.item())\n",
    "mx=round(mx.item())\n",
    "my=round(my.item())\n",
    "image=grabcut_algorithm(oimage,(x-50,y,mx-x+50,my-y+50))"
   ]
  },
  {
   "cell_type": "code",
   "execution_count": null,
   "id": "3f17f422",
   "metadata": {},
   "outputs": [],
   "source": [
    "img=cv2.cvtColor(image, cv2.COLOR_BGR2GRAY)\n",
    "ret, thresh = cv2.threshold(img, 15, 255, cv2.THRESH_BINARY)\n",
    "cnts = cv2.findContours(thresh, cv2.RETR_EXTERNAL, cv2.CHAIN_APPROX_SIMPLE)\n",
    "cnts = cnts[0] if len(cnts) == 2 else cnts[1]\n",
    "area_treshold = 1000\n",
    "for c in cnts:\n",
    "    if cv2.contourArea(c) > area_treshold :\n",
    "#       x,y,w,h = cv2.boundingRect(c)\n",
    "#       cv2.rectangle(image, (x, y), (x + w, y + h), (36,255,12), 3)\n",
    "        x=cv2.minAreaRect(c)\n",
    "        b=cv2.boxPoints(x)\n",
    "        b=np.int0(b)\n",
    "        cv2.polylines(oimage,[b],True,(0,255,0),2)\n",
    "        cv2.putText(oimage, f\"Height : {round(x[1][0]*ratiox,1)} CM  Width : {round(x[1][1]*ratioy,1)} CM\", (int(x[0][0]-x[1][1]/2), int(x[0][1]-x[1][0]/2) + 30), cv2.FONT_HERSHEY_PLAIN ,2, (0,255,0),3)\n",
    "cv2.imshow(\"Output\",oimage)\n",
    "OUTPUT_PATH=os.path.join(\"Results\",\"marked\"+name)\n",
    "cv2.imwrite(OUTPUT_PATH,oimage)\n",
    "cv2.waitKey(0)"
   ]
  },
  {
   "cell_type": "code",
   "execution_count": null,
   "id": "4c76e5dc",
   "metadata": {},
   "outputs": [],
   "source": []
  },
  {
   "cell_type": "code",
   "execution_count": null,
   "id": "8417ea9b",
   "metadata": {},
   "outputs": [],
   "source": []
  },
  {
   "cell_type": "code",
   "execution_count": null,
   "id": "40296186",
   "metadata": {},
   "outputs": [],
   "source": []
  },
  {
   "cell_type": "code",
   "execution_count": null,
   "id": "280ca7b6",
   "metadata": {},
   "outputs": [],
   "source": []
  },
  {
   "cell_type": "code",
   "execution_count": null,
   "id": "4c1fecf4",
   "metadata": {},
   "outputs": [],
   "source": []
  },
  {
   "cell_type": "code",
   "execution_count": null,
   "id": "226585d2",
   "metadata": {},
   "outputs": [],
   "source": []
  },
  {
   "cell_type": "code",
   "execution_count": null,
   "id": "25bcc653",
   "metadata": {},
   "outputs": [],
   "source": []
  },
  {
   "cell_type": "code",
   "execution_count": null,
   "id": "3ba9bb93",
   "metadata": {},
   "outputs": [],
   "source": []
  },
  {
   "cell_type": "code",
   "execution_count": null,
   "id": "e726e145",
   "metadata": {},
   "outputs": [],
   "source": []
  }
 ],
 "metadata": {
  "kernelspec": {
   "display_name": "Python 3 (ipykernel)",
   "language": "python",
   "name": "python3"
  },
  "language_info": {
   "codemirror_mode": {
    "name": "ipython",
    "version": 3
   },
   "file_extension": ".py",
   "mimetype": "text/x-python",
   "name": "python",
   "nbconvert_exporter": "python",
   "pygments_lexer": "ipython3",
   "version": "3.9.12"
  }
 },
 "nbformat": 4,
 "nbformat_minor": 5
}
